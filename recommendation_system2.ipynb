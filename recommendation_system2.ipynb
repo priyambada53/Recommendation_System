{
 "cells": [
  {
   "cell_type": "code",
   "execution_count": null,
   "id": "dbdafeb8",
   "metadata": {},
   "outputs": [],
   "source": [
    "import numpy as np # linear algebra\n",
    "import pandas as pd # data processing, CSV file I/O (e.g. pd.read_csv)\n",
    "import seaborn as sns\n",
    "import matplotlib.pyplot as plt\n",
    "\n",
    "from sklearn.impute import SimpleImputer\n",
    "from sklearn.preprocessing import OneHotEncoder, RobustScaler\n",
    "from sklearn.pipeline import Pipeline\n",
    "from sklearn.compose import ColumnTransformer\n",
    "\n",
    "from datetime import datetime\n",
    "from sklearn.model_selection import train_test_split\n",
    "from sklearn.ensemble import RandomForestClassifier\n",
    "from sklearn.model_selection import GridSearchCV\n",
    "from sklearn.metrics import confusion_matrix,classification_report,plot_confusion_matrix\n",
    "from sklearn.metrics import average_precision_score, precision_recall_curve\n",
    "from sklearn.metrics import auc, plot_precision_recall_curve\n",
    "from sklearn.linear_model import LogisticRegression\n",
    "from sklearn.metrics import f1_score"
   ]
  },
  {
   "cell_type": "code",
   "execution_count": null,
   "id": "5d1b448b",
   "metadata": {},
   "outputs": [],
   "source": [
    "recom_df = pd.read_csv(r'D:\\MACHINE LEARNING\\Mentorship program\\ML Project2\\recom.csv',index_col=0)"
   ]
  },
  {
   "cell_type": "code",
   "execution_count": null,
   "id": "f01e7301",
   "metadata": {},
   "outputs": [],
   "source": [
    "recom_df.head()"
   ]
  },
  {
   "cell_type": "code",
   "execution_count": null,
   "id": "6cc94e4d",
   "metadata": {},
   "outputs": [],
   "source": [
    "recom_df.sort_values(by='Main_ID')"
   ]
  },
  {
   "cell_type": "code",
   "execution_count": null,
   "id": "7356259c",
   "metadata": {},
   "outputs": [],
   "source": [
    "recom_df['Transaction_ID'].value_counts()"
   ]
  },
  {
   "cell_type": "code",
   "execution_count": null,
   "id": "10330c4e",
   "metadata": {},
   "outputs": [],
   "source": [
    "recom_df[recom_df['Transaction_ID']=='e2fdce56']"
   ]
  },
  {
   "cell_type": "code",
   "execution_count": null,
   "id": "e9fe7132",
   "metadata": {},
   "outputs": [],
   "source": [
    "recom_df.info()"
   ]
  },
  {
   "cell_type": "code",
   "execution_count": null,
   "id": "83aa1d76",
   "metadata": {},
   "outputs": [],
   "source": [
    "recom_df.duplicated().sum()"
   ]
  },
  {
   "cell_type": "code",
   "execution_count": null,
   "id": "361b21da",
   "metadata": {},
   "outputs": [],
   "source": [
    "recom_df.drop_duplicates(inplace=True)"
   ]
  },
  {
   "cell_type": "code",
   "execution_count": null,
   "id": "6dd12670",
   "metadata": {},
   "outputs": [],
   "source": [
    "# recom_df['ItemKey'].unique()"
   ]
  },
  {
   "cell_type": "code",
   "execution_count": null,
   "id": "b2e78549",
   "metadata": {},
   "outputs": [],
   "source": [
    "# recom_df['ItemKey1']=recom_df['ItemKey'].fillna(recom_df['Code_Product'])"
   ]
  },
  {
   "cell_type": "code",
   "execution_count": null,
   "id": "c95da829",
   "metadata": {},
   "outputs": [],
   "source": [
    "# recom_df['ItemKeydiff']=recom_df['ItemKey1']-recom_df['Code_Product']"
   ]
  },
  {
   "cell_type": "code",
   "execution_count": null,
   "id": "a6530ca9",
   "metadata": {},
   "outputs": [],
   "source": [
    "# recom_df['ItemKeydiff'].unique()"
   ]
  },
  {
   "cell_type": "code",
   "execution_count": null,
   "id": "25f99952",
   "metadata": {},
   "outputs": [],
   "source": [
    "recom_df.drop('ItemKey',axis=1,inplace=True)"
   ]
  },
  {
   "cell_type": "code",
   "execution_count": null,
   "id": "c0c948a6",
   "metadata": {},
   "outputs": [],
   "source": [
    "recom_df"
   ]
  },
  {
   "cell_type": "code",
   "execution_count": null,
   "id": "9b7be84a",
   "metadata": {},
   "outputs": [],
   "source": [
    "# recom_df[recom_df['Code_Product']==5002.5]"
   ]
  },
  {
   "cell_type": "code",
   "execution_count": null,
   "id": "78e7d1ef",
   "metadata": {},
   "outputs": [],
   "source": [
    "# recom_df.set_index('Main_ID')"
   ]
  },
  {
   "cell_type": "code",
   "execution_count": null,
   "id": "c8df2f1c",
   "metadata": {},
   "outputs": [],
   "source": [
    "d= pd.pivot_table(index='Main_ID',columns='Code_Product',values='Amount', data=recom_df) \n",
    "d"
   ]
  },
  {
   "cell_type": "code",
   "execution_count": null,
   "id": "c6a6d267",
   "metadata": {},
   "outputs": [],
   "source": [
    "d.corr(method='pearson')"
   ]
  },
  {
   "cell_type": "code",
   "execution_count": null,
   "id": "b0df71e4",
   "metadata": {},
   "outputs": [],
   "source": [
    "recom_df.sort_values(by='Main_ID',inplace=True)"
   ]
  },
  {
   "cell_type": "code",
   "execution_count": null,
   "id": "5b91a988",
   "metadata": {},
   "outputs": [],
   "source": [
    "recom_df.reset_index(drop=True)"
   ]
  },
  {
   "cell_type": "code",
   "execution_count": null,
   "id": "0874779a",
   "metadata": {},
   "outputs": [],
   "source": [
    "# d.corr(method='pearson')[5002.0].sort_values(ascending=False).iloc[:20]"
   ]
  },
  {
   "cell_type": "code",
   "execution_count": null,
   "id": "42bc30cf",
   "metadata": {},
   "outputs": [],
   "source": [
    "# lst1 = list(zip(recom_df['Main_ID'], recom_df['Code_Product']))\n",
    "lst=list(set(list(zip(recom_df['Main_ID'], recom_df['Code_Product']))))"
   ]
  },
  {
   "cell_type": "code",
   "execution_count": null,
   "id": "20f27cfa",
   "metadata": {},
   "outputs": [],
   "source": [
    "Code_Product_dict = dict()\n",
    "\n",
    "for line in lst:\n",
    "    if line[0] in Code_Product_dict:\n",
    "        # append the new number to the existing array at this slot\n",
    "        Code_Product_dict[line[0]].append(line[1])\n",
    "    else:\n",
    "        # create a new array in this slot\n",
    "        Code_Product_dict[line[0]] = [line[1]]"
   ]
  },
  {
   "cell_type": "code",
   "execution_count": null,
   "id": "95ef4778",
   "metadata": {},
   "outputs": [],
   "source": [
    "Code_Product_dict"
   ]
  },
  {
   "cell_type": "code",
   "execution_count": null,
   "id": "cf9214b5",
   "metadata": {},
   "outputs": [],
   "source": [
    "# len(Code_Product_dict)"
   ]
  },
  {
   "cell_type": "code",
   "execution_count": null,
   "id": "470f60b5",
   "metadata": {},
   "outputs": [],
   "source": [
    "# list(Code_Product_dict.keys())[0]"
   ]
  },
  {
   "cell_type": "code",
   "execution_count": null,
   "id": "2665b76d",
   "metadata": {},
   "outputs": [],
   "source": [
    "def product_recommend(name):\n",
    "    if name in Code_Product_dict.keys():\n",
    "        index = list(Code_Product_dict).index(name)\n",
    "        print(index)\n",
    "        for j in range(len(list(Code_Product_dict.values())[index])):\n",
    "            dfr=pd.DataFrame(d.corr(method='pearson')[list(Code_Product_dict.values())[index][j]].sort_values(ascending=False).iloc[:11])\n",
    "            dfr.reset_index(inplace=True)\n",
    "            print('\\n')\n",
    "            print(list(Code_Product_dict.keys())[index])\n",
    "            dfr_filtered = dfr[dfr['Code_Product'] != list(Code_Product_dict.values())[index][j]]\n",
    "    \n",
    "            print(dfr_filtered)\n",
    "    else:\n",
    "        print('user does not exist')"
   ]
  },
  {
   "cell_type": "code",
   "execution_count": null,
   "id": "826a0c62",
   "metadata": {},
   "outputs": [],
   "source": [
    "product_recommend('021bfefb')"
   ]
  },
  {
   "cell_type": "code",
   "execution_count": null,
   "id": "3d97246b",
   "metadata": {},
   "outputs": [],
   "source": [
    "# list(set(list(Code_Product_dict.values())[12]))[0]"
   ]
  },
  {
   "cell_type": "code",
   "execution_count": null,
   "id": "794e68a2",
   "metadata": {},
   "outputs": [],
   "source": [
    "# recom_df[recom_df['Main_ID']=='021bfefb']"
   ]
  },
  {
   "cell_type": "code",
   "execution_count": null,
   "id": "499977f7",
   "metadata": {},
   "outputs": [],
   "source": [
    "# dd=pd.DataFrame(np.diag(d2), index=[d2.index, d2.columns])\n",
    "# dd"
   ]
  },
  {
   "cell_type": "code",
   "execution_count": null,
   "id": "9c9f76e0",
   "metadata": {},
   "outputs": [],
   "source": [
    "# dd[0].sum()"
   ]
  },
  {
   "cell_type": "code",
   "execution_count": null,
   "id": "316f87c1",
   "metadata": {},
   "outputs": [],
   "source": []
  }
 ],
 "metadata": {
  "kernelspec": {
   "display_name": "Python 3 (ipykernel)",
   "language": "python",
   "name": "python3"
  },
  "language_info": {
   "codemirror_mode": {
    "name": "ipython",
    "version": 3
   },
   "file_extension": ".py",
   "mimetype": "text/x-python",
   "name": "python",
   "nbconvert_exporter": "python",
   "pygments_lexer": "ipython3",
   "version": "3.9.13"
  }
 },
 "nbformat": 4,
 "nbformat_minor": 5
}
